{
 "cells": [
  {
   "cell_type": "markdown",
   "metadata": {},
   "source": [
    "# Import Modules"
   ]
  },
  {
   "cell_type": "code",
   "execution_count": 44,
   "metadata": {},
   "outputs": [],
   "source": [
    "import pandas as pd\n",
    "import numpy as np\n",
    "import plotly.plotly as py\n",
    "import plotly.graph_objs as go\n",
    "import plotly\n",
    "import os"
   ]
  },
  {
   "cell_type": "markdown",
   "metadata": {},
   "source": [
    "# Login to plotly"
   ]
  },
  {
   "cell_type": "code",
   "execution_count": 2,
   "metadata": {},
   "outputs": [],
   "source": [
    "key = 'qvTrN8RTu8PaTCRvpUAb'\n",
    "user = 'SpecC'\n",
    "\n",
    "plotly.tools.set_credentials_file(username=user, api_key=key)"
   ]
  },
  {
   "cell_type": "markdown",
   "metadata": {},
   "source": [
    "# Load Files"
   ]
  },
  {
   "cell_type": "markdown",
   "metadata": {},
   "source": [
    "* League data file starts at 1980\n",
    "* Players data starts at the same time\n",
    "* The reason for the 1980 start date is because this is th year the 3-point line was introduced"
   ]
  },
  {
   "cell_type": "code",
   "execution_count": 3,
   "metadata": {},
   "outputs": [],
   "source": [
    "# on tiny MacBook\n",
    "#teams_file = '/Users/benjaminxiao/Documents/swd_challenges/jan_19_sub/team_data_last_40.csv'\n",
    "#players_file = '/Users/benjaminxiao/Documents/nba_data/data_files/player_data_1980-2019.csv'\n",
    "\n",
    "# on Mac Mini\n",
    "teams_file = '/Users/mini/Documents/swd_challenges/jan_19_sub/team_data_last_40.csv'\n",
    "players_file = '/Users/mini/Documents/nba_data/data_files/player_data_1980-2019.csv'\n",
    "\n",
    "team_df = pd.read_csv(teams_file)\n",
    "player_df = pd.read_csv(players_file)"
   ]
  },
  {
   "cell_type": "code",
   "execution_count": 4,
   "metadata": {},
   "outputs": [
    {
     "data": {
      "text/html": [
       "<div>\n",
       "<style scoped>\n",
       "    .dataframe tbody tr th:only-of-type {\n",
       "        vertical-align: middle;\n",
       "    }\n",
       "\n",
       "    .dataframe tbody tr th {\n",
       "        vertical-align: top;\n",
       "    }\n",
       "\n",
       "    .dataframe thead th {\n",
       "        text-align: right;\n",
       "    }\n",
       "</style>\n",
       "<table border=\"1\" class=\"dataframe\">\n",
       "  <thead>\n",
       "    <tr style=\"text-align: right;\">\n",
       "      <th></th>\n",
       "      <th>Unnamed: 0</th>\n",
       "      <th>Rk</th>\n",
       "      <th>Season</th>\n",
       "      <th>Lg</th>\n",
       "      <th>Age</th>\n",
       "      <th>Ht</th>\n",
       "      <th>Wt</th>\n",
       "      <th>G</th>\n",
       "      <th>MP</th>\n",
       "      <th>FG</th>\n",
       "      <th>...</th>\n",
       "      <th>PTS</th>\n",
       "      <th>FG%</th>\n",
       "      <th>3P%</th>\n",
       "      <th>FT%</th>\n",
       "      <th>Pace</th>\n",
       "      <th>eFG%</th>\n",
       "      <th>TOV%</th>\n",
       "      <th>ORB%</th>\n",
       "      <th>FT/FGA</th>\n",
       "      <th>ORtg</th>\n",
       "    </tr>\n",
       "  </thead>\n",
       "  <tbody>\n",
       "    <tr>\n",
       "      <th>0</th>\n",
       "      <td>0</td>\n",
       "      <td>1</td>\n",
       "      <td>2018-19</td>\n",
       "      <td>NBA</td>\n",
       "      <td>26.4</td>\n",
       "      <td>6-7</td>\n",
       "      <td>218.0</td>\n",
       "      <td>637</td>\n",
       "      <td>241.7</td>\n",
       "      <td>40.8</td>\n",
       "      <td>...</td>\n",
       "      <td>110.3</td>\n",
       "      <td>0.460</td>\n",
       "      <td>0.354</td>\n",
       "      <td>0.764</td>\n",
       "      <td>99.5</td>\n",
       "      <td>0.522</td>\n",
       "      <td>12.4</td>\n",
       "      <td>23.0</td>\n",
       "      <td>0.200</td>\n",
       "      <td>110.0</td>\n",
       "    </tr>\n",
       "    <tr>\n",
       "      <th>1</th>\n",
       "      <td>1</td>\n",
       "      <td>2</td>\n",
       "      <td>2017-18</td>\n",
       "      <td>NBA</td>\n",
       "      <td>26.4</td>\n",
       "      <td>6-7</td>\n",
       "      <td>219.0</td>\n",
       "      <td>1230</td>\n",
       "      <td>241.4</td>\n",
       "      <td>39.6</td>\n",
       "      <td>...</td>\n",
       "      <td>106.3</td>\n",
       "      <td>0.460</td>\n",
       "      <td>0.362</td>\n",
       "      <td>0.767</td>\n",
       "      <td>97.3</td>\n",
       "      <td>0.521</td>\n",
       "      <td>13.0</td>\n",
       "      <td>22.3</td>\n",
       "      <td>0.193</td>\n",
       "      <td>108.6</td>\n",
       "    </tr>\n",
       "    <tr>\n",
       "      <th>2</th>\n",
       "      <td>2</td>\n",
       "      <td>3</td>\n",
       "      <td>2016-17</td>\n",
       "      <td>NBA</td>\n",
       "      <td>26.6</td>\n",
       "      <td>6-7</td>\n",
       "      <td>220.0</td>\n",
       "      <td>1230</td>\n",
       "      <td>241.6</td>\n",
       "      <td>39.0</td>\n",
       "      <td>...</td>\n",
       "      <td>105.6</td>\n",
       "      <td>0.457</td>\n",
       "      <td>0.358</td>\n",
       "      <td>0.772</td>\n",
       "      <td>96.4</td>\n",
       "      <td>0.514</td>\n",
       "      <td>12.7</td>\n",
       "      <td>23.3</td>\n",
       "      <td>0.209</td>\n",
       "      <td>108.8</td>\n",
       "    </tr>\n",
       "    <tr>\n",
       "      <th>3</th>\n",
       "      <td>3</td>\n",
       "      <td>4</td>\n",
       "      <td>2015-16</td>\n",
       "      <td>NBA</td>\n",
       "      <td>26.7</td>\n",
       "      <td>6-7</td>\n",
       "      <td>221.0</td>\n",
       "      <td>1230</td>\n",
       "      <td>241.8</td>\n",
       "      <td>38.2</td>\n",
       "      <td>...</td>\n",
       "      <td>102.7</td>\n",
       "      <td>0.452</td>\n",
       "      <td>0.354</td>\n",
       "      <td>0.757</td>\n",
       "      <td>95.8</td>\n",
       "      <td>0.502</td>\n",
       "      <td>13.2</td>\n",
       "      <td>23.8</td>\n",
       "      <td>0.209</td>\n",
       "      <td>106.4</td>\n",
       "    </tr>\n",
       "    <tr>\n",
       "      <th>4</th>\n",
       "      <td>4</td>\n",
       "      <td>5</td>\n",
       "      <td>2014-15</td>\n",
       "      <td>NBA</td>\n",
       "      <td>26.7</td>\n",
       "      <td>6-7</td>\n",
       "      <td>222.0</td>\n",
       "      <td>1230</td>\n",
       "      <td>242.0</td>\n",
       "      <td>37.5</td>\n",
       "      <td>...</td>\n",
       "      <td>100.0</td>\n",
       "      <td>0.449</td>\n",
       "      <td>0.350</td>\n",
       "      <td>0.750</td>\n",
       "      <td>93.9</td>\n",
       "      <td>0.496</td>\n",
       "      <td>13.3</td>\n",
       "      <td>25.1</td>\n",
       "      <td>0.205</td>\n",
       "      <td>105.6</td>\n",
       "    </tr>\n",
       "  </tbody>\n",
       "</table>\n",
       "<p>5 rows × 33 columns</p>\n",
       "</div>"
      ],
      "text/plain": [
       "   Unnamed: 0  Rk   Season   Lg   Age   Ht     Wt     G     MP    FG  ...    \\\n",
       "0           0   1  2018-19  NBA  26.4  6-7  218.0   637  241.7  40.8  ...     \n",
       "1           1   2  2017-18  NBA  26.4  6-7  219.0  1230  241.4  39.6  ...     \n",
       "2           2   3  2016-17  NBA  26.6  6-7  220.0  1230  241.6  39.0  ...     \n",
       "3           3   4  2015-16  NBA  26.7  6-7  221.0  1230  241.8  38.2  ...     \n",
       "4           4   5  2014-15  NBA  26.7  6-7  222.0  1230  242.0  37.5  ...     \n",
       "\n",
       "     PTS    FG%    3P%    FT%  Pace   eFG%  TOV%  ORB%  FT/FGA   ORtg  \n",
       "0  110.3  0.460  0.354  0.764  99.5  0.522  12.4  23.0   0.200  110.0  \n",
       "1  106.3  0.460  0.362  0.767  97.3  0.521  13.0  22.3   0.193  108.6  \n",
       "2  105.6  0.457  0.358  0.772  96.4  0.514  12.7  23.3   0.209  108.8  \n",
       "3  102.7  0.452  0.354  0.757  95.8  0.502  13.2  23.8   0.209  106.4  \n",
       "4  100.0  0.449  0.350  0.750  93.9  0.496  13.3  25.1   0.205  105.6  \n",
       "\n",
       "[5 rows x 33 columns]"
      ]
     },
     "execution_count": 4,
     "metadata": {},
     "output_type": "execute_result"
    }
   ],
   "source": [
    "team_df.head(n=5)"
   ]
  },
  {
   "cell_type": "code",
   "execution_count": 5,
   "metadata": {},
   "outputs": [
    {
     "data": {
      "text/html": [
       "<div>\n",
       "<style scoped>\n",
       "    .dataframe tbody tr th:only-of-type {\n",
       "        vertical-align: middle;\n",
       "    }\n",
       "\n",
       "    .dataframe tbody tr th {\n",
       "        vertical-align: top;\n",
       "    }\n",
       "\n",
       "    .dataframe thead th {\n",
       "        text-align: right;\n",
       "    }\n",
       "</style>\n",
       "<table border=\"1\" class=\"dataframe\">\n",
       "  <thead>\n",
       "    <tr style=\"text-align: right;\">\n",
       "      <th></th>\n",
       "      <th>Season</th>\n",
       "      <th>Player</th>\n",
       "      <th>Pos</th>\n",
       "      <th>Age</th>\n",
       "      <th>Tm</th>\n",
       "      <th>G</th>\n",
       "      <th>GS</th>\n",
       "      <th>MP_tot</th>\n",
       "      <th>FG_tot</th>\n",
       "      <th>FGA_tot</th>\n",
       "      <th>...</th>\n",
       "      <th>DRB_per_100p</th>\n",
       "      <th>TRB_per_100p</th>\n",
       "      <th>AST_per_100p</th>\n",
       "      <th>STL_per_100p</th>\n",
       "      <th>BLK_per_100p</th>\n",
       "      <th>TOV_per_100p</th>\n",
       "      <th>PF_per_100p</th>\n",
       "      <th>PTS_per_100p</th>\n",
       "      <th>ORtg</th>\n",
       "      <th>DRtg</th>\n",
       "    </tr>\n",
       "  </thead>\n",
       "  <tbody>\n",
       "    <tr>\n",
       "      <th>0</th>\n",
       "      <td>1979-80</td>\n",
       "      <td>Kareem Abdul-Jabbar*</td>\n",
       "      <td>C</td>\n",
       "      <td>32.0</td>\n",
       "      <td>LAL</td>\n",
       "      <td>82.0</td>\n",
       "      <td>0.0</td>\n",
       "      <td>3143.0</td>\n",
       "      <td>835.0</td>\n",
       "      <td>1383.0</td>\n",
       "      <td>...</td>\n",
       "      <td>10.2</td>\n",
       "      <td>13.0</td>\n",
       "      <td>5.4</td>\n",
       "      <td>1.2</td>\n",
       "      <td>4.1</td>\n",
       "      <td>4.4</td>\n",
       "      <td>3.2</td>\n",
       "      <td>29.8</td>\n",
       "      <td>118.0</td>\n",
       "      <td>100.0</td>\n",
       "    </tr>\n",
       "    <tr>\n",
       "      <th>1</th>\n",
       "      <td>1979-80</td>\n",
       "      <td>Tom Abernethy</td>\n",
       "      <td>PF</td>\n",
       "      <td>25.0</td>\n",
       "      <td>GSW</td>\n",
       "      <td>67.0</td>\n",
       "      <td>0.0</td>\n",
       "      <td>1222.0</td>\n",
       "      <td>153.0</td>\n",
       "      <td>318.0</td>\n",
       "      <td>...</td>\n",
       "      <td>5.0</td>\n",
       "      <td>7.5</td>\n",
       "      <td>3.4</td>\n",
       "      <td>1.4</td>\n",
       "      <td>0.5</td>\n",
       "      <td>1.5</td>\n",
       "      <td>4.6</td>\n",
       "      <td>14.1</td>\n",
       "      <td>109.0</td>\n",
       "      <td>108.0</td>\n",
       "    </tr>\n",
       "    <tr>\n",
       "      <th>2</th>\n",
       "      <td>1979-80</td>\n",
       "      <td>Alvan Adams</td>\n",
       "      <td>C</td>\n",
       "      <td>25.0</td>\n",
       "      <td>PHO</td>\n",
       "      <td>75.0</td>\n",
       "      <td>0.0</td>\n",
       "      <td>2168.0</td>\n",
       "      <td>465.0</td>\n",
       "      <td>875.0</td>\n",
       "      <td>...</td>\n",
       "      <td>9.5</td>\n",
       "      <td>12.9</td>\n",
       "      <td>6.8</td>\n",
       "      <td>2.3</td>\n",
       "      <td>1.2</td>\n",
       "      <td>4.6</td>\n",
       "      <td>5.0</td>\n",
       "      <td>23.6</td>\n",
       "      <td>107.0</td>\n",
       "      <td>99.0</td>\n",
       "    </tr>\n",
       "    <tr>\n",
       "      <th>3</th>\n",
       "      <td>1979-80</td>\n",
       "      <td>Tiny Archibald*</td>\n",
       "      <td>PG</td>\n",
       "      <td>31.0</td>\n",
       "      <td>BOS</td>\n",
       "      <td>80.0</td>\n",
       "      <td>80.0</td>\n",
       "      <td>2864.0</td>\n",
       "      <td>383.0</td>\n",
       "      <td>794.0</td>\n",
       "      <td>...</td>\n",
       "      <td>2.3</td>\n",
       "      <td>3.2</td>\n",
       "      <td>11.0</td>\n",
       "      <td>1.7</td>\n",
       "      <td>0.2</td>\n",
       "      <td>4.0</td>\n",
       "      <td>3.6</td>\n",
       "      <td>18.5</td>\n",
       "      <td>115.0</td>\n",
       "      <td>105.0</td>\n",
       "    </tr>\n",
       "    <tr>\n",
       "      <th>4</th>\n",
       "      <td>1979-80</td>\n",
       "      <td>Dennis Awtrey</td>\n",
       "      <td>C</td>\n",
       "      <td>31.0</td>\n",
       "      <td>CHI</td>\n",
       "      <td>26.0</td>\n",
       "      <td>0.0</td>\n",
       "      <td>560.0</td>\n",
       "      <td>27.0</td>\n",
       "      <td>60.0</td>\n",
       "      <td>...</td>\n",
       "      <td>7.2</td>\n",
       "      <td>9.7</td>\n",
       "      <td>3.4</td>\n",
       "      <td>1.0</td>\n",
       "      <td>1.3</td>\n",
       "      <td>2.3</td>\n",
       "      <td>5.6</td>\n",
       "      <td>7.2</td>\n",
       "      <td>102.0</td>\n",
       "      <td>107.0</td>\n",
       "    </tr>\n",
       "  </tbody>\n",
       "</table>\n",
       "<p>5 rows × 105 columns</p>\n",
       "</div>"
      ],
      "text/plain": [
       "    Season                Player Pos   Age   Tm     G    GS  MP_tot  FG_tot  \\\n",
       "0  1979-80  Kareem Abdul-Jabbar*   C  32.0  LAL  82.0   0.0  3143.0   835.0   \n",
       "1  1979-80         Tom Abernethy  PF  25.0  GSW  67.0   0.0  1222.0   153.0   \n",
       "2  1979-80           Alvan Adams   C  25.0  PHO  75.0   0.0  2168.0   465.0   \n",
       "3  1979-80       Tiny Archibald*  PG  31.0  BOS  80.0  80.0  2864.0   383.0   \n",
       "4  1979-80         Dennis Awtrey   C  31.0  CHI  26.0   0.0   560.0    27.0   \n",
       "\n",
       "   FGA_tot  ...    DRB_per_100p  TRB_per_100p  AST_per_100p  STL_per_100p  \\\n",
       "0   1383.0  ...            10.2          13.0           5.4           1.2   \n",
       "1    318.0  ...             5.0           7.5           3.4           1.4   \n",
       "2    875.0  ...             9.5          12.9           6.8           2.3   \n",
       "3    794.0  ...             2.3           3.2          11.0           1.7   \n",
       "4     60.0  ...             7.2           9.7           3.4           1.0   \n",
       "\n",
       "   BLK_per_100p  TOV_per_100p  PF_per_100p  PTS_per_100p   ORtg   DRtg  \n",
       "0           4.1           4.4          3.2          29.8  118.0  100.0  \n",
       "1           0.5           1.5          4.6          14.1  109.0  108.0  \n",
       "2           1.2           4.6          5.0          23.6  107.0   99.0  \n",
       "3           0.2           4.0          3.6          18.5  115.0  105.0  \n",
       "4           1.3           2.3          5.6           7.2  102.0  107.0  \n",
       "\n",
       "[5 rows x 105 columns]"
      ]
     },
     "execution_count": 5,
     "metadata": {},
     "output_type": "execute_result"
    }
   ],
   "source": [
    "player_df.head(n=5)"
   ]
  },
  {
   "cell_type": "code",
   "execution_count": 6,
   "metadata": {},
   "outputs": [
    {
     "name": "stdout",
     "output_type": "stream",
     "text": [
      "['Unnamed: 0', 'Rk', 'Season', 'Lg', 'Age', 'Ht', 'Wt', 'G', 'MP', 'FG', 'FGA', '3P', '3PA', 'FT', 'FTA', 'ORB', 'DRB', 'TRB', 'AST', 'STL', 'BLK', 'TOV', 'PF', 'PTS', 'FG%', '3P%', 'FT%', 'Pace', 'eFG%', 'TOV%', 'ORB%', 'FT/FGA', 'ORtg']\n"
     ]
    }
   ],
   "source": [
    "print(list(team_df))"
   ]
  },
  {
   "cell_type": "code",
   "execution_count": 7,
   "metadata": {},
   "outputs": [],
   "source": [
    "# Drop first column of teams df because it has an artifact\n",
    "team_df = team_df.drop(team_df.columns[0], axis=1)"
   ]
  },
  {
   "cell_type": "code",
   "execution_count": 8,
   "metadata": {},
   "outputs": [
    {
     "name": "stdout",
     "output_type": "stream",
     "text": [
      "['Rk', 'Season', 'Lg', 'Age', 'Ht', 'Wt', 'G', 'MP', 'FG', 'FGA', '3P', '3PA', 'FT', 'FTA', 'ORB', 'DRB', 'TRB', 'AST', 'STL', 'BLK', 'TOV', 'PF', 'PTS', 'FG%', '3P%', 'FT%', 'Pace', 'eFG%', 'TOV%', 'ORB%', 'FT/FGA', 'ORtg']\n"
     ]
    }
   ],
   "source": [
    "print(list(team_df)) # Check if column was dropped properly"
   ]
  },
  {
   "cell_type": "code",
   "execution_count": 9,
   "metadata": {},
   "outputs": [
    {
     "name": "stdout",
     "output_type": "stream",
     "text": [
      "['Rk', 'Season', 'Lg', 'Age', 'Ht', 'Wt', 'G', 'MP', 'FG', 'FGA', '3P', '3PA', 'FT', 'FTA', 'ORB', 'DRB', 'TRB', 'AST', 'STL', 'BLK', 'TOV', 'PF', 'PTS', 'FG%', '3P%', 'FT%', 'Pace', 'eFG%', 'TOV%', 'ORB%', 'FT/FGA', 'ORtg']\n"
     ]
    }
   ],
   "source": [
    "# Check column names of both team and player dataframes\n",
    "print(list(team_df))"
   ]
  },
  {
   "cell_type": "code",
   "execution_count": 10,
   "metadata": {
    "scrolled": true
   },
   "outputs": [
    {
     "data": {
      "text/plain": [
       "['Season',\n",
       " 'Player',\n",
       " 'Pos',\n",
       " 'Age',\n",
       " 'Tm',\n",
       " 'G',\n",
       " 'GS',\n",
       " 'MP_tot',\n",
       " 'FG_tot',\n",
       " 'FGA_tot',\n",
       " 'FG_perc',\n",
       " '3P_tot',\n",
       " '3PA_tot',\n",
       " '3P_perc',\n",
       " '2P_tot',\n",
       " '2PA_tot',\n",
       " '2P_perc',\n",
       " 'eFG_perc',\n",
       " 'FT_tot',\n",
       " 'FTA_tot',\n",
       " 'FT_perc',\n",
       " 'ORB_tot',\n",
       " 'DRB_tot',\n",
       " 'TRB_tot',\n",
       " 'AST_tot',\n",
       " 'STL_tot',\n",
       " 'BLK_tot',\n",
       " 'TOV_tot',\n",
       " 'PF_tot',\n",
       " 'PTS_tot',\n",
       " 'MP_per_G',\n",
       " 'FG_per_G',\n",
       " 'FGA_per_G',\n",
       " '3P_per_G',\n",
       " '3PA_per_G',\n",
       " '2P_per_G',\n",
       " '2PA_per_G',\n",
       " 'FT_per_G',\n",
       " 'FTA_per_G',\n",
       " 'ORB_per_G',\n",
       " 'DRB_per_G',\n",
       " 'TRB_per_G',\n",
       " 'AST_per_G',\n",
       " 'STL_per_G',\n",
       " 'BLK_per_G',\n",
       " 'TOV_per_G',\n",
       " 'PF_per_G',\n",
       " 'PTS_per_G',\n",
       " 'FG_per_36m',\n",
       " 'FGA_per_36m',\n",
       " '3P_per_36m',\n",
       " '3PA_per_36m',\n",
       " '2P_per_36m',\n",
       " '2PA_per_36m',\n",
       " 'FT_per_36m',\n",
       " 'FTA_per_36m',\n",
       " 'ORB_per_36m',\n",
       " 'DRB_per_36m',\n",
       " 'TRB_per_36m',\n",
       " 'AST_per_36m',\n",
       " 'STL_per_36m',\n",
       " 'BLK_per_36m',\n",
       " 'TOV_per_36m',\n",
       " 'PF_per_36m',\n",
       " 'PTS_per_36m',\n",
       " 'PER',\n",
       " 'TS_perc',\n",
       " '3PAr',\n",
       " 'FTr',\n",
       " 'ORB_perc',\n",
       " 'DRB_perc',\n",
       " 'TRB_perc',\n",
       " 'AST_perc',\n",
       " 'STL_perc',\n",
       " 'BLK_perc',\n",
       " 'TOV_perc',\n",
       " 'USG_perc',\n",
       " 'OWS',\n",
       " 'DWS',\n",
       " 'WS',\n",
       " 'WS_per_48',\n",
       " 'OBPM',\n",
       " 'DBPM',\n",
       " 'BPM',\n",
       " 'VORP',\n",
       " 'MP',\n",
       " 'FG_per_100p',\n",
       " 'FGA_per_100p',\n",
       " '3P_per_100p',\n",
       " '3PA_per_100p',\n",
       " '2P_per_100p',\n",
       " '2PA_per_100p',\n",
       " 'FT_per_100p',\n",
       " 'FTA_per_100p',\n",
       " 'ORB_per_100p',\n",
       " 'DRB_per_100p',\n",
       " 'TRB_per_100p',\n",
       " 'AST_per_100p',\n",
       " 'STL_per_100p',\n",
       " 'BLK_per_100p',\n",
       " 'TOV_per_100p',\n",
       " 'PF_per_100p',\n",
       " 'PTS_per_100p',\n",
       " 'ORtg',\n",
       " 'DRtg']"
      ]
     },
     "execution_count": 10,
     "metadata": {},
     "output_type": "execute_result"
    }
   ],
   "source": [
    "list(player_df)"
   ]
  },
  {
   "cell_type": "code",
   "execution_count": 11,
   "metadata": {},
   "outputs": [],
   "source": [
    "top_scorers_df = player_df.sort_values(['PTS_per_G'], ascending = False).head(n=100)"
   ]
  },
  {
   "cell_type": "markdown",
   "metadata": {},
   "source": [
    "## First, a line plot of ORtg over time"
   ]
  },
  {
   "cell_type": "code",
   "execution_count": 12,
   "metadata": {},
   "outputs": [],
   "source": [
    "x_test = team_df['Season']\n",
    "y_test = team_df['ORtg']"
   ]
  },
  {
   "cell_type": "code",
   "execution_count": 13,
   "metadata": {},
   "outputs": [
    {
     "name": "stderr",
     "output_type": "stream",
     "text": [
      "/anaconda3/lib/python3.6/site-packages/IPython/core/display.py:689: UserWarning:\n",
      "\n",
      "Consider using IPython.display.IFrame instead\n",
      "\n"
     ]
    },
    {
     "data": {
      "text/html": [
       "<iframe id=\"igraph\" scrolling=\"no\" style=\"border:none;\" seamless=\"seamless\" src=\"https://plot.ly/~SpecC/10.embed\" height=\"525px\" width=\"100%\"></iframe>"
      ],
      "text/plain": [
       "<plotly.tools.PlotlyDisplay object>"
      ]
     },
     "execution_count": 13,
     "metadata": {},
     "output_type": "execute_result"
    }
   ],
   "source": [
    "data = [\n",
    "    go.Scatter(\n",
    "        x = team_df['Season'],\n",
    "        y= team_df['ORtg']\n",
    "    ),\n",
    "    go.Scatter(\n",
    "        x = team_df['Season'],\n",
    "        y = team_df['PTS']\n",
    "    )\n",
    "]\n",
    "\n",
    "layout = go.Layout(\n",
    "    xaxis=dict(\n",
    "        autorange='reversed',\n",
    "        showgrid=False,\n",
    "        showticklabels=False,\n",
    "        type='category'\n",
    "    ),\n",
    "    yaxis=dict(\n",
    "        showgrid=False,\n",
    "        showline=False,\n",
    "        showticklabels=False\n",
    "    ),\n",
    "    showlegend=False\n",
    ")\n",
    "\n",
    "fig = go.Figure(data = data, layout = layout)\n",
    "\n",
    "team_ortg = py.iplot(fig, filename = 'test_line') # iplot for inline\n",
    "team_ortg # displays plot "
   ]
  },
  {
   "cell_type": "markdown",
   "metadata": {},
   "source": [
    "# What to change about this plot:\n",
    "\n",
    "* Add another line for points per game + label min/max points\n",
    "* Make two lines diverging colors\n",
    "* Delete grid in the background\n",
    "* Remove axes labels\n",
    "* Add a title\n",
    "* Label min/max ORtg points\n",
    "* Add bar plot of how how many players in each season in the top scorers dataframe -- have number displayed on top of bar\n",
    "* See if you want to change default colors to something else"
   ]
  },
  {
   "cell_type": "markdown",
   "metadata": {},
   "source": [
    "## What to label\n",
    "\n",
    "* maximum and minimum values for offensive rating and points, but not pace\n",
    "* what line is what on the left side"
   ]
  },
  {
   "cell_type": "code",
   "execution_count": 14,
   "metadata": {},
   "outputs": [],
   "source": [
    "# Declare variables to input into line plot\n",
    "x_data = team_df['Season']\n",
    "y_data = [team_df['ORtg'], team_df['PTS'], team_df['Pace']] # list of lines to plot"
   ]
  },
  {
   "cell_type": "code",
   "execution_count": 15,
   "metadata": {},
   "outputs": [],
   "source": [
    "# min and max values\n",
    "min_pts = team_df[['Season', 'PTS']].loc[team_df['PTS'].idxmin()]\n",
    "min_ortg = team_df[['Season', 'ORtg']].loc[team_df['ORtg'].idxmin()]\n",
    "max_pts = team_df[['Season', 'PTS']].loc[team_df['PTS'].idxmax()]\n",
    "max_ortg = team_df[['Season', 'ORtg']].loc[team_df['ORtg'].idxmax()]"
   ]
  },
  {
   "cell_type": "code",
   "execution_count": 16,
   "metadata": {},
   "outputs": [],
   "source": [
    "# list of min value dataframes\n",
    "min_dfs = [min_ortg, min_pts]"
   ]
  },
  {
   "cell_type": "code",
   "execution_count": 17,
   "metadata": {},
   "outputs": [
    {
     "data": {
      "text/plain": [
       "Season    1998-99\n",
       "ORtg        102.2\n",
       "Name: 20, dtype: object"
      ]
     },
     "execution_count": 17,
     "metadata": {},
     "output_type": "execute_result"
    }
   ],
   "source": [
    "min_ortg"
   ]
  },
  {
   "cell_type": "code",
   "execution_count": 18,
   "metadata": {},
   "outputs": [
    {
     "data": {
      "text/plain": [
       "Season    1998-99\n",
       "PTS          91.6\n",
       "Name: 20, dtype: object"
      ]
     },
     "execution_count": 18,
     "metadata": {},
     "output_type": "execute_result"
    }
   ],
   "source": [
    "min_pts"
   ]
  },
  {
   "cell_type": "code",
   "execution_count": 19,
   "metadata": {},
   "outputs": [
    {
     "data": {
      "text/plain": [
       "Season    1998-99\n",
       "Pace         88.9\n",
       "Name: 20, dtype: object"
      ]
     },
     "execution_count": 19,
     "metadata": {},
     "output_type": "execute_result"
    }
   ],
   "source": [
    "team_df[['Season', 'Pace']].loc[team_df['Pace'].idxmin()]"
   ]
  },
  {
   "cell_type": "code",
   "execution_count": 20,
   "metadata": {},
   "outputs": [
    {
     "data": {
      "text/plain": [
       "Season    1982-83\n",
       "Pace        103.1\n",
       "Name: 36, dtype: object"
      ]
     },
     "execution_count": 20,
     "metadata": {},
     "output_type": "execute_result"
    }
   ],
   "source": [
    "team_df[['Season', 'Pace']].loc[team_df['Pace'].idxmax()]"
   ]
  },
  {
   "cell_type": "markdown",
   "metadata": {},
   "source": [
    "Don't bother labeling pace. Seeing it increase is enough for now."
   ]
  },
  {
   "cell_type": "markdown",
   "metadata": {},
   "source": [
    "### The one season for the worst ORtg and PPG is 98-99, makes things a little easier"
   ]
  },
  {
   "cell_type": "code",
   "execution_count": 21,
   "metadata": {},
   "outputs": [
    {
     "data": {
      "text/plain": [
       "Season    1998-99\n",
       "ORtg        102.2\n",
       "Name: 20, dtype: object"
      ]
     },
     "execution_count": 21,
     "metadata": {},
     "output_type": "execute_result"
    }
   ],
   "source": [
    "min_pts\n",
    "min_ortg"
   ]
  },
  {
   "cell_type": "markdown",
   "metadata": {},
   "source": [
    "### The highest points have different seasons and will be labeled accordingly"
   ]
  },
  {
   "cell_type": "code",
   "execution_count": 22,
   "metadata": {},
   "outputs": [
    {
     "data": {
      "text/plain": [
       "Season    1984-85\n",
       "PTS         110.8\n",
       "Name: 34, dtype: object"
      ]
     },
     "execution_count": 22,
     "metadata": {},
     "output_type": "execute_result"
    }
   ],
   "source": [
    "max_pts"
   ]
  },
  {
   "cell_type": "code",
   "execution_count": 23,
   "metadata": {},
   "outputs": [
    {
     "data": {
      "text/plain": [
       "Season    2018-19\n",
       "ORtg          110\n",
       "Name: 0, dtype: object"
      ]
     },
     "execution_count": 23,
     "metadata": {},
     "output_type": "execute_result"
    }
   ],
   "source": [
    "max_ortg"
   ]
  },
  {
   "cell_type": "code",
   "execution_count": 55,
   "metadata": {},
   "outputs": [
    {
     "data": {
      "text/plain": [
       "'https://plot.ly/~SpecC/15'"
      ]
     },
     "execution_count": 55,
     "metadata": {},
     "output_type": "execute_result"
    }
   ],
   "source": [
    "# Declare variables to input into line plot\n",
    "x_data = team_df['Season']\n",
    "y_data = [team_df['ORtg'], team_df['PTS'], team_df['Pace']] # list of lines to plot\n",
    "\n",
    "# min and max values\n",
    "min_pts = team_df[['Season', 'PTS']].loc[team_df['PTS'].idxmin()]\n",
    "min_ortg = team_df[['Season', 'ORtg']].loc[team_df['ORtg'].idxmin()]\n",
    "max_pts = team_df[['Season', 'PTS']].loc[team_df['PTS'].idxmax()]\n",
    "max_ortg = team_df[['Season', 'ORtg']].loc[team_df['ORtg'].idxmax()]\n",
    "\n",
    "# Remember to reverse the x-axis to go from oldest to newest in layout\n",
    "\n",
    "mode_size = 8 # size of dots on each end\n",
    "\n",
    "line_size = 3 # size of line plotted\n",
    "\n",
    "# plot colors, ortg, pts, pace\n",
    "colors = ['rgb(17, 50, 232)', 'rgb(232, 132, 17)', 'rgb(26, 158, 26)']\n",
    "\n",
    "# Python list of line plots and marked points\n",
    "traces = []\n",
    "\n",
    "# Append line plot data\n",
    "for i in range(3):\n",
    "    traces.append(go.Scatter( # first, the line graphs\n",
    "        x=x_data, # seasons starting at '80\n",
    "        y=y_data[i], # for each list of data points: ortg, points, and pace\n",
    "        mode='lines',\n",
    "        line = dict(width=line_size, color=colors[i])\n",
    "    ))\n",
    "    \n",
    "# Append markers data\n",
    "traces.append(go.Scatter( # ortg markers\n",
    "    # first season, min and max points\n",
    "    x = [team_df['Season'].iloc[-1], min_ortg['Season'], max_ortg['Season']], \n",
    "    y = [team_df['ORtg'].iloc[-1], min_ortg['ORtg'], max_ortg['ORtg']], # list of min/max ortg values\n",
    "    mode='markers',\n",
    "    marker = dict(size = mode_size, color=colors[0])\n",
    "))\n",
    "\n",
    "traces.append(go.Scatter( # pts markers\n",
    "    # first, min, max points\n",
    "    x = [team_df['Season'].iloc[-1], min_pts['Season'], max_pts['Season']],\n",
    "    y = [team_df['PTS'].iloc[-1], min_pts['PTS'], max_pts['PTS']],\n",
    "    mode = 'markers',\n",
    "    marker = dict(size=mode_size, color=colors[1])\n",
    "))\n",
    "\n",
    "traces.append(go.Scatter( # first and last markers for pace\n",
    "    x= [team_df['Season'].iloc[-1], team_df['Season'].iloc[0]],\n",
    "    y= [team_df['Pace'].iloc[-1], team_df['Pace'].iloc[0]],\n",
    "    mode='markers',\n",
    "    marker=dict(size=mode_size, color=colors[2])\n",
    "))\n",
    "\n",
    "# Layout details\n",
    "layout = go.Layout(\n",
    "    xaxis=dict(\n",
    "        showline=True,\n",
    "        showgrid=False, # whitespace!\n",
    "        showticklabels=True, \n",
    "        linecolor='rgb(204, 204, 204)',\n",
    "        linewidth=2,\n",
    "        nticks=3,\n",
    "        ticks='outside',\n",
    "        tickcolor='rgb(204, 204, 204)',\n",
    "        tickwidth=2,\n",
    "        ticklen=5,\n",
    "        autorange='reversed', # go from earliest to latest\n",
    "        type='category' # required to disable auto datetime\n",
    "    ),\n",
    "    yaxis=dict(\n",
    "        showgrid=False,\n",
    "        zeroline=False,\n",
    "        showline=False,\n",
    "        showticklabels=False,\n",
    "    ),\n",
    "    autosize=False,\n",
    "    margin=dict(\n",
    "        autoexpand=False,\n",
    "        l=100,\n",
    "        r=20,\n",
    "        t=100,\n",
    "    ),\n",
    "    showlegend=False # No need for legend when labeling\n",
    ")\n",
    "\n",
    "# Annotations code\n",
    "\n",
    "annotations = list()\n",
    "\n",
    "labels = ['Offensive Rating', 'Points Per Game', 'Pace']\n",
    "curr_season = '2018-19'\n",
    "\n",
    "# Label both sides of all lines\n",
    "\n",
    "for i in range(3): # Append annotations at left side, no starting value\n",
    "    # Labeling left side - what graph is what\n",
    "    annotations.append(dict(xref='paper', # scale relative from 0 to 1\n",
    "        x=0.05, y=y_data[i].iloc[-1], # value to use\n",
    "        xanchor='right', yanchor='middle',\n",
    "        text=labels[i],\n",
    "        font=dict(family='Arial', size=15, color=colors[i]), # play with this later\n",
    "        showarrow=False))\n",
    "\n",
    "# Label right side \n",
    "annotations.append(dict(xref='paper', # Offensive rating\n",
    "    x=0.95, y=y_data[0].iloc[0], # starts at current season\n",
    "    xanchor='left', yanchor='bottom',\n",
    "    text='{}'.format(y_data[0].iloc[0]),\n",
    "    font=dict(family='Arial', size=15, color=colors[0]),\n",
    "    showarrow=False))\n",
    "\n",
    "annotations.append(dict(xref='paper', # Points\n",
    "    x=0.95, y=y_data[1].iloc[0], # starts at current season\n",
    "    xanchor='left', yanchor='top',\n",
    "    text='{}'.format(y_data[1].iloc[0]),\n",
    "    font=dict(family='Arial', size=15, color=colors[1]),\n",
    "    showarrow=False))\n",
    "\n",
    "annotations.append(dict(xref='paper', # Pace\n",
    "    x=0.95, y=y_data[2].iloc[0], # starts at current season\n",
    "    xanchor='left', yanchor='middle',\n",
    "    text='{}'.format(y_data[2].iloc[0]),\n",
    "    font=dict(family='Arial', size=15, color=colors[2]),\n",
    "    showarrow=False))\n",
    "\n",
    "# Label min points for ORtg and points\n",
    "annotations.append(dict( # Offensive rating min point label\n",
    "    x=min_ortg['Season'], y=min_ortg['ORtg'], # where nub point is\n",
    "    xanchor='right', yanchor='top', # display to the right and bottom\n",
    "    text='{}'.format(min_ortg['ORtg']), # display the value\n",
    "    font=dict(family='Arial', size=12, color=colors[0]), # small text!\n",
    "    showarrow=True, # show arrow for this one!\n",
    "    arrowhead=0, arrowcolor='rgb(0,0,0)'))\n",
    "\n",
    "annotations.append(dict( # same idea for min points label\n",
    "    x=min_pts['Season'], y=min_pts['PTS'],\n",
    "    xanchor='right', yanchor='middle',\n",
    "    text='{}'.format(min_pts['PTS']),\n",
    "    font=dict(family='Arial', size=12, color=colors[1]),\n",
    "    showarrow=True,\n",
    "    arrowhead=0, arrowcolor='rgb(0,0,0)'))\n",
    "\n",
    "# Title\n",
    "annotations.append(dict(\n",
    "    xref='paper', yref='paper', x=0, y=1.10,\n",
    "    xanchor='left', yanchor='bottom',\n",
    "    text='NBA Scoring Efficiency Is at an All-Time High',\n",
    "    font=dict(family='Arial', size=30, color='rgb(0,0,0)'),\n",
    "    showarrow=False\n",
    "    ))\n",
    "\n",
    "# Source - basketball-reference.com\n",
    "annotations.append(dict(\n",
    "    xref='paper', yref='paper', x=0.7, y=-0.1,\n",
    "    xanchor='center', yanchor='top',\n",
    "    text='Source: Basketball-Reference.com',\n",
    "    font=dict(family='Arial', size=12, color='rgb(115, 115, 115'),\n",
    "    showarrow=False\n",
    "    ))\n",
    "\n",
    "layout['annotations'] = annotations # Append annotations data to layout dict\n",
    "\n",
    "# Finally draw plot\n",
    "fig = go.Figure(data=traces, layout=layout)\n",
    "py.iplot(fig, filename='nba_offense_over_time')\n",
    "py.plot(fig, filename='nba_offense_over_time')"
   ]
  }
 ],
 "metadata": {
  "kernelspec": {
   "display_name": "Python 3",
   "language": "python",
   "name": "python3"
  },
  "language_info": {
   "codemirror_mode": {
    "name": "ipython",
    "version": 3
   },
   "file_extension": ".py",
   "mimetype": "text/x-python",
   "name": "python",
   "nbconvert_exporter": "python",
   "pygments_lexer": "ipython3",
   "version": "3.6.8"
  }
 },
 "nbformat": 4,
 "nbformat_minor": 2
}
